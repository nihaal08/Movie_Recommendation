{
 "cells": [
  {
   "cell_type": "code",
   "execution_count": 1,
   "id": "63aa1572",
   "metadata": {},
   "outputs": [],
   "source": [
    "import numpy as np\n",
    "import pandas as pd\n",
    "import ast\n",
    "from sklearn.feature_extraction.text import CountVectorizer\n",
    "from sklearn.metrics.pairwise import cosine_similarity\n",
    "import pickle"
   ]
  },
  {
   "cell_type": "code",
   "execution_count": 15,
   "id": "12652bab",
   "metadata": {},
   "outputs": [],
   "source": [
    "# Load datasets\n",
    "def load_data():\n",
    "    movies_df = pd.read_csv('tmdb_5000_movies.csv')\n",
    "    credits_df = pd.read_csv('tmdb_5000_credits.csv')\n",
    "    return movies_df, credits_df"
   ]
  },
  {
   "cell_type": "code",
   "execution_count": 3,
   "id": "20f0916c",
   "metadata": {},
   "outputs": [],
   "source": [
    "# Merge datasets on title\n",
    "def merge_datasets(movies_df, credits_df):\n",
    "    return movies_df.merge(credits_df, on='title')\n"
   ]
  },
  {
   "cell_type": "code",
   "execution_count": 4,
   "id": "4b885091",
   "metadata": {},
   "outputs": [],
   "source": [
    "# Select relevant columns\n",
    "def select_columns(merged_df):\n",
    "    return merged_df[['movie_id', 'title', 'overview', 'genres', 'keywords', 'cast', 'crew']]\n"
   ]
  },
  {
   "cell_type": "code",
   "execution_count": 5,
   "id": "8a676f6e",
   "metadata": {},
   "outputs": [],
   "source": [
    "# Parse JSON strings to lists\n",
    "def parse_json(text):\n",
    "    return [item['name'] for item in ast.literal_eval(text)]\n"
   ]
  },
  {
   "cell_type": "code",
   "execution_count": 6,
   "id": "7a22a3e4",
   "metadata": {},
   "outputs": [],
   "source": [
    "# Extract director from crew\n",
    "def extract_director(text):\n",
    "    return [item['name'] for item in ast.literal_eval(text) if item['job'] == 'Director']\n"
   ]
  },
  {
   "cell_type": "code",
   "execution_count": 7,
   "id": "1b342c18",
   "metadata": {},
   "outputs": [],
   "source": [
    "# Limit cast to top 3 actors\n",
    "def limit_cast(text):\n",
    "    return [item['name'] for item in ast.literal_eval(text)[:3]]\n"
   ]
  },
  {
   "cell_type": "code",
   "execution_count": 8,
   "id": "58178a2e",
   "metadata": {},
   "outputs": [],
   "source": [
    "# Remove spaces from list items\n",
    "def remove_spaces(item_list):\n",
    "    return [item.replace(\" \", \"\") for item in item_list]\n"
   ]
  },
  {
   "cell_type": "code",
   "execution_count": 9,
   "id": "dbb3b284",
   "metadata": {},
   "outputs": [],
   "source": [
    "# Preprocess data\n",
    "def preprocess_data(df):\n",
    "    df = df.dropna()  # Remove rows with missing values\n",
    "    df['genres'] = df['genres'].apply(parse_json)\n",
    "    df['keywords'] = df['keywords'].apply(parse_json)\n",
    "    df['cast'] = df['cast'].apply(limit_cast)\n",
    "    df['crew'] = df['crew'].apply(extract_director)\n",
    "    \n",
    "    # Remove spaces from text lists\n",
    "    df['genres'] = df['genres'].apply(remove_spaces)\n",
    "    df['keywords'] = df['keywords'].apply(remove_spaces)\n",
    "    df['cast'] = df['cast'].apply(remove_spaces)\n",
    "    df['crew'] = df['crew'].apply(remove_spaces)\n",
    "    \n",
    "    # Split overview into words\n",
    "    df['overview'] = df['overview'].apply(lambda x: x.split())\n",
    "    \n",
    "    # Combine features into tags\n",
    "    df['tags'] = df['overview'] + df['genres'] + df['keywords'] + df['cast'] + df['crew']\n",
    "    \n",
    "    # Create final dataset\n",
    "    final_df = df[['movie_id', 'title', 'tags']]\n",
    "    final_df['tags'] = final_df['tags'].apply(lambda x: \" \".join(x))\n",
    "    \n",
    "    return final_df"
   ]
  },
  {
   "cell_type": "code",
   "execution_count": 10,
   "id": "9dce84c3",
   "metadata": {},
   "outputs": [],
   "source": [
    "# Generate recommendation model\n",
    "def build_recommendation_model(df):\n",
    "    cv = CountVectorizer(max_features=5000, stop_words='english')\n",
    "    vectors = cv.fit_transform(df['tags']).toarray()\n",
    "    similarity_matrix = cosine_similarity(vectors)\n",
    "    return vectors, similarity_matrix"
   ]
  },
  {
   "cell_type": "code",
   "execution_count": 11,
   "id": "d82d4e15",
   "metadata": {},
   "outputs": [],
   "source": [
    "# Recommend movies\n",
    "def recommend_movies(movie_title, df, similarity_matrix):\n",
    "    try:\n",
    "        idx = df[df['title'] == movie_title].index[0]\n",
    "        sim_scores = sorted(list(enumerate(similarity_matrix[idx])), reverse=True, key=lambda x: x[1])\n",
    "        for i in sim_scores[1:6]:\n",
    "            print(df.iloc[i[0]].title)\n",
    "    except IndexError:\n",
    "        print(f\"Movie '{movie_title}' not found in the dataset.\")\n"
   ]
  },
  {
   "cell_type": "code",
   "execution_count": 12,
   "id": "2de2e3b7",
   "metadata": {},
   "outputs": [],
   "source": [
    "# Save model and data\n",
    "def save_artifacts(df, similarity_matrix):\n",
    "    pickle.dump(df, open('movies_data.pkl', 'wb'))\n",
    "    pickle.dump(similarity_matrix, open('similarity_matrix.pkl', 'wb'))\n"
   ]
  },
  {
   "cell_type": "code",
   "execution_count": 16,
   "id": "6c6152e5",
   "metadata": {},
   "outputs": [
    {
     "name": "stderr",
     "output_type": "stream",
     "text": [
      "C:\\Users\\nihal\\AppData\\Local\\Temp\\ipykernel_19752\\249874542.py:4: SettingWithCopyWarning: \n",
      "A value is trying to be set on a copy of a slice from a DataFrame.\n",
      "Try using .loc[row_indexer,col_indexer] = value instead\n",
      "\n",
      "See the caveats in the documentation: https://pandas.pydata.org/pandas-docs/stable/user_guide/indexing.html#returning-a-view-versus-a-copy\n",
      "  df['genres'] = df['genres'].apply(parse_json)\n",
      "C:\\Users\\nihal\\AppData\\Local\\Temp\\ipykernel_19752\\249874542.py:5: SettingWithCopyWarning: \n",
      "A value is trying to be set on a copy of a slice from a DataFrame.\n",
      "Try using .loc[row_indexer,col_indexer] = value instead\n",
      "\n",
      "See the caveats in the documentation: https://pandas.pydata.org/pandas-docs/stable/user_guide/indexing.html#returning-a-view-versus-a-copy\n",
      "  df['keywords'] = df['keywords'].apply(parse_json)\n",
      "C:\\Users\\nihal\\AppData\\Local\\Temp\\ipykernel_19752\\249874542.py:6: SettingWithCopyWarning: \n",
      "A value is trying to be set on a copy of a slice from a DataFrame.\n",
      "Try using .loc[row_indexer,col_indexer] = value instead\n",
      "\n",
      "See the caveats in the documentation: https://pandas.pydata.org/pandas-docs/stable/user_guide/indexing.html#returning-a-view-versus-a-copy\n",
      "  df['cast'] = df['cast'].apply(limit_cast)\n",
      "C:\\Users\\nihal\\AppData\\Local\\Temp\\ipykernel_19752\\249874542.py:7: SettingWithCopyWarning: \n",
      "A value is trying to be set on a copy of a slice from a DataFrame.\n",
      "Try using .loc[row_indexer,col_indexer] = value instead\n",
      "\n",
      "See the caveats in the documentation: https://pandas.pydata.org/pandas-docs/stable/user_guide/indexing.html#returning-a-view-versus-a-copy\n",
      "  df['crew'] = df['crew'].apply(extract_director)\n",
      "C:\\Users\\nihal\\AppData\\Local\\Temp\\ipykernel_19752\\249874542.py:10: SettingWithCopyWarning: \n",
      "A value is trying to be set on a copy of a slice from a DataFrame.\n",
      "Try using .loc[row_indexer,col_indexer] = value instead\n",
      "\n",
      "See the caveats in the documentation: https://pandas.pydata.org/pandas-docs/stable/user_guide/indexing.html#returning-a-view-versus-a-copy\n",
      "  df['genres'] = df['genres'].apply(remove_spaces)\n",
      "C:\\Users\\nihal\\AppData\\Local\\Temp\\ipykernel_19752\\249874542.py:11: SettingWithCopyWarning: \n",
      "A value is trying to be set on a copy of a slice from a DataFrame.\n",
      "Try using .loc[row_indexer,col_indexer] = value instead\n",
      "\n",
      "See the caveats in the documentation: https://pandas.pydata.org/pandas-docs/stable/user_guide/indexing.html#returning-a-view-versus-a-copy\n",
      "  df['keywords'] = df['keywords'].apply(remove_spaces)\n",
      "C:\\Users\\nihal\\AppData\\Local\\Temp\\ipykernel_19752\\249874542.py:12: SettingWithCopyWarning: \n",
      "A value is trying to be set on a copy of a slice from a DataFrame.\n",
      "Try using .loc[row_indexer,col_indexer] = value instead\n",
      "\n",
      "See the caveats in the documentation: https://pandas.pydata.org/pandas-docs/stable/user_guide/indexing.html#returning-a-view-versus-a-copy\n",
      "  df['cast'] = df['cast'].apply(remove_spaces)\n",
      "C:\\Users\\nihal\\AppData\\Local\\Temp\\ipykernel_19752\\249874542.py:13: SettingWithCopyWarning: \n",
      "A value is trying to be set on a copy of a slice from a DataFrame.\n",
      "Try using .loc[row_indexer,col_indexer] = value instead\n",
      "\n",
      "See the caveats in the documentation: https://pandas.pydata.org/pandas-docs/stable/user_guide/indexing.html#returning-a-view-versus-a-copy\n",
      "  df['crew'] = df['crew'].apply(remove_spaces)\n",
      "C:\\Users\\nihal\\AppData\\Local\\Temp\\ipykernel_19752\\249874542.py:16: SettingWithCopyWarning: \n",
      "A value is trying to be set on a copy of a slice from a DataFrame.\n",
      "Try using .loc[row_indexer,col_indexer] = value instead\n",
      "\n",
      "See the caveats in the documentation: https://pandas.pydata.org/pandas-docs/stable/user_guide/indexing.html#returning-a-view-versus-a-copy\n",
      "  df['overview'] = df['overview'].apply(lambda x: x.split())\n",
      "C:\\Users\\nihal\\AppData\\Local\\Temp\\ipykernel_19752\\249874542.py:19: SettingWithCopyWarning: \n",
      "A value is trying to be set on a copy of a slice from a DataFrame.\n",
      "Try using .loc[row_indexer,col_indexer] = value instead\n",
      "\n",
      "See the caveats in the documentation: https://pandas.pydata.org/pandas-docs/stable/user_guide/indexing.html#returning-a-view-versus-a-copy\n",
      "  df['tags'] = df['overview'] + df['genres'] + df['keywords'] + df['cast'] + df['crew']\n",
      "C:\\Users\\nihal\\AppData\\Local\\Temp\\ipykernel_19752\\249874542.py:23: SettingWithCopyWarning: \n",
      "A value is trying to be set on a copy of a slice from a DataFrame.\n",
      "Try using .loc[row_indexer,col_indexer] = value instead\n",
      "\n",
      "See the caveats in the documentation: https://pandas.pydata.org/pandas-docs/stable/user_guide/indexing.html#returning-a-view-versus-a-copy\n",
      "  final_df['tags'] = final_df['tags'].apply(lambda x: \" \".join(x))\n"
     ]
    },
    {
     "name": "stdout",
     "output_type": "stream",
     "text": [
      "Gandhi, My Father\n",
      "The Wind That Shakes the Barley\n",
      "A Passage to India\n",
      "Guiana 1838\n",
      "Ramanujan\n"
     ]
    }
   ],
   "source": [
    "# Main execution\n",
    "if __name__ == \"__main__\":\n",
    "    movies_df, credits_df = load_data()\n",
    "    merged_df = merge_datasets(movies_df, credits_df)\n",
    "    selected_df = select_columns(merged_df)\n",
    "    processed_df = preprocess_data(selected_df)\n",
    "    vectors, similarity_matrix = build_recommendation_model(processed_df)\n",
    "    recommend_movies('Gandhi', processed_df, similarity_matrix)\n",
    "    save_artifacts(processed_df, similarity_matrix)"
   ]
  },
  {
   "cell_type": "code",
   "execution_count": null,
   "id": "67339449",
   "metadata": {},
   "outputs": [],
   "source": []
  }
 ],
 "metadata": {
  "kernelspec": {
   "display_name": "Python 3",
   "language": "python",
   "name": "python3"
  },
  "language_info": {
   "codemirror_mode": {
    "name": "ipython",
    "version": 3
   },
   "file_extension": ".py",
   "mimetype": "text/x-python",
   "name": "python",
   "nbconvert_exporter": "python",
   "pygments_lexer": "ipython3",
   "version": "3.11.9"
  }
 },
 "nbformat": 4,
 "nbformat_minor": 5
}
